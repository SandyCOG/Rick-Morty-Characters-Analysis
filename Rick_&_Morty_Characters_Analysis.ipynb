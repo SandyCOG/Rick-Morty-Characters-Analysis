{
  "nbformat": 4,
  "nbformat_minor": 0,
  "metadata": {
    "colab": {
      "provenance": [],
      "authorship_tag": "ABX9TyPv1HPkh30V0nkctK+sVo0b"
    },
    "kernelspec": {
      "name": "python3",
      "display_name": "Python 3"
    },
    "language_info": {
      "name": "python"
    }
  },
  "cells": [
    {
      "cell_type": "markdown",
      "source": [
        "**Data Science case study**\n",
        "\n",
        "RM fandom is a movie analytics non-profit that analyzes movie data to create visualizations, answer key questions\n",
        "and find interesting patterns in data.\n",
        "\n",
        "**Task**\n",
        "\n",
        "Perform analysis on data from the Rick and Morty API to determine how different features are related to the number\n",
        "of episodes a character appears in."
      ],
      "metadata": {
        "id": "yxWUM4ARBcNy"
      }
    },
    {
      "cell_type": "markdown",
      "source": [
        "# **INTRODUCTION**: Analysis of Characters in \"Rick and Morty\"\n",
        "\n",
        "\"Rick and Morty,\" is a popular animated television series created by Justin Roiland and Dan Harmon. The show boasts a unique blend of science fiction, humor, and existential themes and follows the misadventures of an eccentric and alcoholic scientist, Rick Sanchez, and his good-hearted but easily influenced grandson, Morty Smith, as they embark on interdimensional escapades.\n",
        "\n",
        "This project analyses the characters in the \"Rick and Morty\" universe using data pulled from the official Rick and Morty API.\n"
      ],
      "metadata": {
        "id": "-j3bFDExXc4h"
      }
    },
    {
      "cell_type": "code",
      "execution_count": null,
      "metadata": {
        "id": "L1BmAoLGBWNC"
      },
      "outputs": [],
      "source": [
        "#importing libraries\n",
        "import pandas as pd\n",
        "import requests\n"
      ]
    },
    {
      "cell_type": "code",
      "source": [
        "# Defining a function to fetch all rick & morty characters by iterating over pages\n",
        "def fetch_all_characters(url):\n",
        "    characters = []\n",
        "    next_url = url\n",
        "    while next_url:\n",
        "        response = requests.get(next_url)\n",
        "        data = response.json()\n",
        "        characters.extend(data['results'])\n",
        "        next_url = data['info']['next']\n",
        "    return characters\n",
        "\n",
        "# characters URL\n",
        "url = \"https://therickandmortyapi.vercel.app/api/character\"\n",
        "\n",
        "# Fetching all characters\n",
        "all_characters = fetch_all_characters(url)"
      ],
      "metadata": {
        "id": "DsbWqpeqQ9pw"
      },
      "execution_count": null,
      "outputs": []
    },
    {
      "cell_type": "code",
      "source": [
        "#convert fetched characters to a pandas dataframe\n",
        "df = pd.DataFrame(all_characters)\n",
        "\n",
        "df.head()\n",
        "\n"
      ],
      "metadata": {
        "colab": {
          "base_uri": "https://localhost:8080/",
          "height": 380
        },
        "id": "v14LiegPRhd_",
        "outputId": "7615f3da-7c93-43ae-e208-a80c93c0c9d4"
      },
      "execution_count": null,
      "outputs": [
        {
          "output_type": "execute_result",
          "data": {
            "text/plain": [
              "   id          name status species type  gender  \\\n",
              "0   1  Rick Sanchez  Alive   Human         Male   \n",
              "1   2   Morty Smith  Alive   Human         Male   \n",
              "2   3  Summer Smith  Alive   Human       Female   \n",
              "3   4    Beth Smith  Alive   Human       Female   \n",
              "4   5   Jerry Smith  Alive   Human         Male   \n",
              "\n",
              "                                            location  \\\n",
              "0  {'name': 'Citadel of Ricks', 'url': 'https://t...   \n",
              "1  {'name': 'Citadel of Ricks', 'url': 'https://t...   \n",
              "2  {'name': 'Earth (Replacement Dimension)', 'url...   \n",
              "3  {'name': 'Earth (Replacement Dimension)', 'url...   \n",
              "4  {'name': 'Earth (Replacement Dimension)', 'url...   \n",
              "\n",
              "                                              origin  \\\n",
              "0  {'name': 'Earth (C-137)', 'url': 'https://ther...   \n",
              "1                     {'name': 'unknown', 'url': ''}   \n",
              "2  {'name': 'Earth (Replacement Dimension)', 'url...   \n",
              "3  {'name': 'Earth (Replacement Dimension)', 'url...   \n",
              "4  {'name': 'Earth (Replacement Dimension)', 'url...   \n",
              "\n",
              "                                               image  \\\n",
              "0  https://therickandmortyapi.vercel.app/api/char...   \n",
              "1  https://therickandmortyapi.vercel.app/api/char...   \n",
              "2  https://therickandmortyapi.vercel.app/api/char...   \n",
              "3  https://therickandmortyapi.vercel.app/api/char...   \n",
              "4  https://therickandmortyapi.vercel.app/api/char...   \n",
              "\n",
              "                                             episode  \\\n",
              "0  [https://therickandmortyapi.vercel.app/api/epi...   \n",
              "1  [https://therickandmortyapi.vercel.app/api/epi...   \n",
              "2  [https://therickandmortyapi.vercel.app/api/epi...   \n",
              "3  [https://therickandmortyapi.vercel.app/api/epi...   \n",
              "4  [https://therickandmortyapi.vercel.app/api/epi...   \n",
              "\n",
              "                                                 url                   created  \n",
              "0  https://therickandmortyapi.vercel.app/api/char...  2017-11-04T13:48:46.250Z  \n",
              "1  https://therickandmortyapi.vercel.app/api/char...  2017-11-04T13:50:21.651Z  \n",
              "2  https://therickandmortyapi.vercel.app/api/char...  2017-11-04T14:09:56.428Z  \n",
              "3  https://therickandmortyapi.vercel.app/api/char...  2017-11-04T14:22:43.665Z  \n",
              "4  https://therickandmortyapi.vercel.app/api/char...  2017-11-04T14:26:56.301Z  "
            ],
            "text/html": [
              "\n",
              "  <div id=\"df-8d85ace7-18f6-4fa4-8ec6-7bf6cb2ad332\" class=\"colab-df-container\">\n",
              "    <div>\n",
              "<style scoped>\n",
              "    .dataframe tbody tr th:only-of-type {\n",
              "        vertical-align: middle;\n",
              "    }\n",
              "\n",
              "    .dataframe tbody tr th {\n",
              "        vertical-align: top;\n",
              "    }\n",
              "\n",
              "    .dataframe thead th {\n",
              "        text-align: right;\n",
              "    }\n",
              "</style>\n",
              "<table border=\"1\" class=\"dataframe\">\n",
              "  <thead>\n",
              "    <tr style=\"text-align: right;\">\n",
              "      <th></th>\n",
              "      <th>id</th>\n",
              "      <th>name</th>\n",
              "      <th>status</th>\n",
              "      <th>species</th>\n",
              "      <th>type</th>\n",
              "      <th>gender</th>\n",
              "      <th>location</th>\n",
              "      <th>origin</th>\n",
              "      <th>image</th>\n",
              "      <th>episode</th>\n",
              "      <th>url</th>\n",
              "      <th>created</th>\n",
              "    </tr>\n",
              "  </thead>\n",
              "  <tbody>\n",
              "    <tr>\n",
              "      <th>0</th>\n",
              "      <td>1</td>\n",
              "      <td>Rick Sanchez</td>\n",
              "      <td>Alive</td>\n",
              "      <td>Human</td>\n",
              "      <td></td>\n",
              "      <td>Male</td>\n",
              "      <td>{'name': 'Citadel of Ricks', 'url': 'https://t...</td>\n",
              "      <td>{'name': 'Earth (C-137)', 'url': 'https://ther...</td>\n",
              "      <td>https://therickandmortyapi.vercel.app/api/char...</td>\n",
              "      <td>[https://therickandmortyapi.vercel.app/api/epi...</td>\n",
              "      <td>https://therickandmortyapi.vercel.app/api/char...</td>\n",
              "      <td>2017-11-04T13:48:46.250Z</td>\n",
              "    </tr>\n",
              "    <tr>\n",
              "      <th>1</th>\n",
              "      <td>2</td>\n",
              "      <td>Morty Smith</td>\n",
              "      <td>Alive</td>\n",
              "      <td>Human</td>\n",
              "      <td></td>\n",
              "      <td>Male</td>\n",
              "      <td>{'name': 'Citadel of Ricks', 'url': 'https://t...</td>\n",
              "      <td>{'name': 'unknown', 'url': ''}</td>\n",
              "      <td>https://therickandmortyapi.vercel.app/api/char...</td>\n",
              "      <td>[https://therickandmortyapi.vercel.app/api/epi...</td>\n",
              "      <td>https://therickandmortyapi.vercel.app/api/char...</td>\n",
              "      <td>2017-11-04T13:50:21.651Z</td>\n",
              "    </tr>\n",
              "    <tr>\n",
              "      <th>2</th>\n",
              "      <td>3</td>\n",
              "      <td>Summer Smith</td>\n",
              "      <td>Alive</td>\n",
              "      <td>Human</td>\n",
              "      <td></td>\n",
              "      <td>Female</td>\n",
              "      <td>{'name': 'Earth (Replacement Dimension)', 'url...</td>\n",
              "      <td>{'name': 'Earth (Replacement Dimension)', 'url...</td>\n",
              "      <td>https://therickandmortyapi.vercel.app/api/char...</td>\n",
              "      <td>[https://therickandmortyapi.vercel.app/api/epi...</td>\n",
              "      <td>https://therickandmortyapi.vercel.app/api/char...</td>\n",
              "      <td>2017-11-04T14:09:56.428Z</td>\n",
              "    </tr>\n",
              "    <tr>\n",
              "      <th>3</th>\n",
              "      <td>4</td>\n",
              "      <td>Beth Smith</td>\n",
              "      <td>Alive</td>\n",
              "      <td>Human</td>\n",
              "      <td></td>\n",
              "      <td>Female</td>\n",
              "      <td>{'name': 'Earth (Replacement Dimension)', 'url...</td>\n",
              "      <td>{'name': 'Earth (Replacement Dimension)', 'url...</td>\n",
              "      <td>https://therickandmortyapi.vercel.app/api/char...</td>\n",
              "      <td>[https://therickandmortyapi.vercel.app/api/epi...</td>\n",
              "      <td>https://therickandmortyapi.vercel.app/api/char...</td>\n",
              "      <td>2017-11-04T14:22:43.665Z</td>\n",
              "    </tr>\n",
              "    <tr>\n",
              "      <th>4</th>\n",
              "      <td>5</td>\n",
              "      <td>Jerry Smith</td>\n",
              "      <td>Alive</td>\n",
              "      <td>Human</td>\n",
              "      <td></td>\n",
              "      <td>Male</td>\n",
              "      <td>{'name': 'Earth (Replacement Dimension)', 'url...</td>\n",
              "      <td>{'name': 'Earth (Replacement Dimension)', 'url...</td>\n",
              "      <td>https://therickandmortyapi.vercel.app/api/char...</td>\n",
              "      <td>[https://therickandmortyapi.vercel.app/api/epi...</td>\n",
              "      <td>https://therickandmortyapi.vercel.app/api/char...</td>\n",
              "      <td>2017-11-04T14:26:56.301Z</td>\n",
              "    </tr>\n",
              "  </tbody>\n",
              "</table>\n",
              "</div>\n",
              "    <div class=\"colab-df-buttons\">\n",
              "\n",
              "  <div class=\"colab-df-container\">\n",
              "    <button class=\"colab-df-convert\" onclick=\"convertToInteractive('df-8d85ace7-18f6-4fa4-8ec6-7bf6cb2ad332')\"\n",
              "            title=\"Convert this dataframe to an interactive table.\"\n",
              "            style=\"display:none;\">\n",
              "\n",
              "  <svg xmlns=\"http://www.w3.org/2000/svg\" height=\"24px\" viewBox=\"0 -960 960 960\">\n",
              "    <path d=\"M120-120v-720h720v720H120Zm60-500h600v-160H180v160Zm220 220h160v-160H400v160Zm0 220h160v-160H400v160ZM180-400h160v-160H180v160Zm440 0h160v-160H620v160ZM180-180h160v-160H180v160Zm440 0h160v-160H620v160Z\"/>\n",
              "  </svg>\n",
              "    </button>\n",
              "\n",
              "  <style>\n",
              "    .colab-df-container {\n",
              "      display:flex;\n",
              "      gap: 12px;\n",
              "    }\n",
              "\n",
              "    .colab-df-convert {\n",
              "      background-color: #E8F0FE;\n",
              "      border: none;\n",
              "      border-radius: 50%;\n",
              "      cursor: pointer;\n",
              "      display: none;\n",
              "      fill: #1967D2;\n",
              "      height: 32px;\n",
              "      padding: 0 0 0 0;\n",
              "      width: 32px;\n",
              "    }\n",
              "\n",
              "    .colab-df-convert:hover {\n",
              "      background-color: #E2EBFA;\n",
              "      box-shadow: 0px 1px 2px rgba(60, 64, 67, 0.3), 0px 1px 3px 1px rgba(60, 64, 67, 0.15);\n",
              "      fill: #174EA6;\n",
              "    }\n",
              "\n",
              "    .colab-df-buttons div {\n",
              "      margin-bottom: 4px;\n",
              "    }\n",
              "\n",
              "    [theme=dark] .colab-df-convert {\n",
              "      background-color: #3B4455;\n",
              "      fill: #D2E3FC;\n",
              "    }\n",
              "\n",
              "    [theme=dark] .colab-df-convert:hover {\n",
              "      background-color: #434B5C;\n",
              "      box-shadow: 0px 1px 3px 1px rgba(0, 0, 0, 0.15);\n",
              "      filter: drop-shadow(0px 1px 2px rgba(0, 0, 0, 0.3));\n",
              "      fill: #FFFFFF;\n",
              "    }\n",
              "  </style>\n",
              "\n",
              "    <script>\n",
              "      const buttonEl =\n",
              "        document.querySelector('#df-8d85ace7-18f6-4fa4-8ec6-7bf6cb2ad332 button.colab-df-convert');\n",
              "      buttonEl.style.display =\n",
              "        google.colab.kernel.accessAllowed ? 'block' : 'none';\n",
              "\n",
              "      async function convertToInteractive(key) {\n",
              "        const element = document.querySelector('#df-8d85ace7-18f6-4fa4-8ec6-7bf6cb2ad332');\n",
              "        const dataTable =\n",
              "          await google.colab.kernel.invokeFunction('convertToInteractive',\n",
              "                                                    [key], {});\n",
              "        if (!dataTable) return;\n",
              "\n",
              "        const docLinkHtml = 'Like what you see? Visit the ' +\n",
              "          '<a target=\"_blank\" href=https://colab.research.google.com/notebooks/data_table.ipynb>data table notebook</a>'\n",
              "          + ' to learn more about interactive tables.';\n",
              "        element.innerHTML = '';\n",
              "        dataTable['output_type'] = 'display_data';\n",
              "        await google.colab.output.renderOutput(dataTable, element);\n",
              "        const docLink = document.createElement('div');\n",
              "        docLink.innerHTML = docLinkHtml;\n",
              "        element.appendChild(docLink);\n",
              "      }\n",
              "    </script>\n",
              "  </div>\n",
              "\n",
              "\n",
              "<div id=\"df-793644ef-7c63-431d-a02e-7f99a5e84948\">\n",
              "  <button class=\"colab-df-quickchart\" onclick=\"quickchart('df-793644ef-7c63-431d-a02e-7f99a5e84948')\"\n",
              "            title=\"Suggest charts\"\n",
              "            style=\"display:none;\">\n",
              "\n",
              "<svg xmlns=\"http://www.w3.org/2000/svg\" height=\"24px\"viewBox=\"0 0 24 24\"\n",
              "     width=\"24px\">\n",
              "    <g>\n",
              "        <path d=\"M19 3H5c-1.1 0-2 .9-2 2v14c0 1.1.9 2 2 2h14c1.1 0 2-.9 2-2V5c0-1.1-.9-2-2-2zM9 17H7v-7h2v7zm4 0h-2V7h2v10zm4 0h-2v-4h2v4z\"/>\n",
              "    </g>\n",
              "</svg>\n",
              "  </button>\n",
              "\n",
              "<style>\n",
              "  .colab-df-quickchart {\n",
              "      --bg-color: #E8F0FE;\n",
              "      --fill-color: #1967D2;\n",
              "      --hover-bg-color: #E2EBFA;\n",
              "      --hover-fill-color: #174EA6;\n",
              "      --disabled-fill-color: #AAA;\n",
              "      --disabled-bg-color: #DDD;\n",
              "  }\n",
              "\n",
              "  [theme=dark] .colab-df-quickchart {\n",
              "      --bg-color: #3B4455;\n",
              "      --fill-color: #D2E3FC;\n",
              "      --hover-bg-color: #434B5C;\n",
              "      --hover-fill-color: #FFFFFF;\n",
              "      --disabled-bg-color: #3B4455;\n",
              "      --disabled-fill-color: #666;\n",
              "  }\n",
              "\n",
              "  .colab-df-quickchart {\n",
              "    background-color: var(--bg-color);\n",
              "    border: none;\n",
              "    border-radius: 50%;\n",
              "    cursor: pointer;\n",
              "    display: none;\n",
              "    fill: var(--fill-color);\n",
              "    height: 32px;\n",
              "    padding: 0;\n",
              "    width: 32px;\n",
              "  }\n",
              "\n",
              "  .colab-df-quickchart:hover {\n",
              "    background-color: var(--hover-bg-color);\n",
              "    box-shadow: 0 1px 2px rgba(60, 64, 67, 0.3), 0 1px 3px 1px rgba(60, 64, 67, 0.15);\n",
              "    fill: var(--button-hover-fill-color);\n",
              "  }\n",
              "\n",
              "  .colab-df-quickchart-complete:disabled,\n",
              "  .colab-df-quickchart-complete:disabled:hover {\n",
              "    background-color: var(--disabled-bg-color);\n",
              "    fill: var(--disabled-fill-color);\n",
              "    box-shadow: none;\n",
              "  }\n",
              "\n",
              "  .colab-df-spinner {\n",
              "    border: 2px solid var(--fill-color);\n",
              "    border-color: transparent;\n",
              "    border-bottom-color: var(--fill-color);\n",
              "    animation:\n",
              "      spin 1s steps(1) infinite;\n",
              "  }\n",
              "\n",
              "  @keyframes spin {\n",
              "    0% {\n",
              "      border-color: transparent;\n",
              "      border-bottom-color: var(--fill-color);\n",
              "      border-left-color: var(--fill-color);\n",
              "    }\n",
              "    20% {\n",
              "      border-color: transparent;\n",
              "      border-left-color: var(--fill-color);\n",
              "      border-top-color: var(--fill-color);\n",
              "    }\n",
              "    30% {\n",
              "      border-color: transparent;\n",
              "      border-left-color: var(--fill-color);\n",
              "      border-top-color: var(--fill-color);\n",
              "      border-right-color: var(--fill-color);\n",
              "    }\n",
              "    40% {\n",
              "      border-color: transparent;\n",
              "      border-right-color: var(--fill-color);\n",
              "      border-top-color: var(--fill-color);\n",
              "    }\n",
              "    60% {\n",
              "      border-color: transparent;\n",
              "      border-right-color: var(--fill-color);\n",
              "    }\n",
              "    80% {\n",
              "      border-color: transparent;\n",
              "      border-right-color: var(--fill-color);\n",
              "      border-bottom-color: var(--fill-color);\n",
              "    }\n",
              "    90% {\n",
              "      border-color: transparent;\n",
              "      border-bottom-color: var(--fill-color);\n",
              "    }\n",
              "  }\n",
              "</style>\n",
              "\n",
              "  <script>\n",
              "    async function quickchart(key) {\n",
              "      const quickchartButtonEl =\n",
              "        document.querySelector('#' + key + ' button');\n",
              "      quickchartButtonEl.disabled = true;  // To prevent multiple clicks.\n",
              "      quickchartButtonEl.classList.add('colab-df-spinner');\n",
              "      try {\n",
              "        const charts = await google.colab.kernel.invokeFunction(\n",
              "            'suggestCharts', [key], {});\n",
              "      } catch (error) {\n",
              "        console.error('Error during call to suggestCharts:', error);\n",
              "      }\n",
              "      quickchartButtonEl.classList.remove('colab-df-spinner');\n",
              "      quickchartButtonEl.classList.add('colab-df-quickchart-complete');\n",
              "    }\n",
              "    (() => {\n",
              "      let quickchartButtonEl =\n",
              "        document.querySelector('#df-793644ef-7c63-431d-a02e-7f99a5e84948 button');\n",
              "      quickchartButtonEl.style.display =\n",
              "        google.colab.kernel.accessAllowed ? 'block' : 'none';\n",
              "    })();\n",
              "  </script>\n",
              "</div>\n",
              "\n",
              "    </div>\n",
              "  </div>\n"
            ],
            "application/vnd.google.colaboratory.intrinsic+json": {
              "type": "dataframe",
              "variable_name": "df",
              "summary": "{\n  \"name\": \"df\",\n  \"rows\": 826,\n  \"fields\": [\n    {\n      \"column\": \"id\",\n      \"properties\": {\n        \"dtype\": \"number\",\n        \"std\": 238,\n        \"min\": 1,\n        \"max\": 826,\n        \"num_unique_values\": 826,\n        \"samples\": [\n          649,\n          175,\n          68\n        ],\n        \"semantic_type\": \"\",\n        \"description\": \"\"\n      }\n    },\n    {\n      \"column\": \"name\",\n      \"properties\": {\n        \"dtype\": \"string\",\n        \"num_unique_values\": 757,\n        \"samples\": [\n          \"Super Weird Rick\",\n          \"Doofus Rick\",\n          \"Robot Morty\"\n        ],\n        \"semantic_type\": \"\",\n        \"description\": \"\"\n      }\n    },\n    {\n      \"column\": \"status\",\n      \"properties\": {\n        \"dtype\": \"category\",\n        \"num_unique_values\": 3,\n        \"samples\": [\n          \"Alive\",\n          \"unknown\",\n          \"Dead\"\n        ],\n        \"semantic_type\": \"\",\n        \"description\": \"\"\n      }\n    },\n    {\n      \"column\": \"species\",\n      \"properties\": {\n        \"dtype\": \"category\",\n        \"num_unique_values\": 10,\n        \"samples\": [\n          \"Cronenberg\",\n          \"Alien\",\n          \"Mythological Creature\"\n        ],\n        \"semantic_type\": \"\",\n        \"description\": \"\"\n      }\n    },\n    {\n      \"column\": \"type\",\n      \"properties\": {\n        \"dtype\": \"category\",\n        \"num_unique_values\": 170,\n        \"samples\": [\n          \"Narnian\",\n          \"Giant\",\n          \"Caterpillar\"\n        ],\n        \"semantic_type\": \"\",\n        \"description\": \"\"\n      }\n    },\n    {\n      \"column\": \"gender\",\n      \"properties\": {\n        \"dtype\": \"category\",\n        \"num_unique_values\": 4,\n        \"samples\": [\n          \"Female\",\n          \"Genderless\",\n          \"Male\"\n        ],\n        \"semantic_type\": \"\",\n        \"description\": \"\"\n      }\n    },\n    {\n      \"column\": \"location\",\n      \"properties\": {\n        \"dtype\": \"object\",\n        \"semantic_type\": \"\",\n        \"description\": \"\"\n      }\n    },\n    {\n      \"column\": \"origin\",\n      \"properties\": {\n        \"dtype\": \"object\",\n        \"semantic_type\": \"\",\n        \"description\": \"\"\n      }\n    },\n    {\n      \"column\": \"image\",\n      \"properties\": {\n        \"dtype\": \"string\",\n        \"num_unique_values\": 826,\n        \"samples\": [\n          \"https://therickandmortyapi.vercel.app/api/character/avatar/649.jpeg\",\n          \"https://therickandmortyapi.vercel.app/api/character/avatar/175.jpeg\",\n          \"https://therickandmortyapi.vercel.app/api/character/avatar/68.jpeg\"\n        ],\n        \"semantic_type\": \"\",\n        \"description\": \"\"\n      }\n    },\n    {\n      \"column\": \"episode\",\n      \"properties\": {\n        \"dtype\": \"object\",\n        \"semantic_type\": \"\",\n        \"description\": \"\"\n      }\n    },\n    {\n      \"column\": \"url\",\n      \"properties\": {\n        \"dtype\": \"string\",\n        \"num_unique_values\": 826,\n        \"samples\": [\n          \"https://therickandmortyapi.vercel.app/api/character/649\",\n          \"https://therickandmortyapi.vercel.app/api/character/175\",\n          \"https://therickandmortyapi.vercel.app/api/character/68\"\n        ],\n        \"semantic_type\": \"\",\n        \"description\": \"\"\n      }\n    },\n    {\n      \"column\": \"created\",\n      \"properties\": {\n        \"dtype\": \"object\",\n        \"num_unique_values\": 826,\n        \"samples\": [\n          \"2020-08-13T05:10:01.602Z\",\n          \"2017-12-29T13:07:17.610Z\",\n          \"2017-11-30T06:17:32.733Z\"\n        ],\n        \"semantic_type\": \"\",\n        \"description\": \"\"\n      }\n    }\n  ]\n}"
            }
          },
          "metadata": {},
          "execution_count": 33
        }
      ]
    },
    {
      "cell_type": "code",
      "source": [
        "# Handling location and origin columns with multiple JSON values\n",
        "df['origin_name'] = df['origin'].apply(lambda x: x['name'])\n",
        "df['location_name'] = df['location'].apply(lambda x: x['name'])"
      ],
      "metadata": {
        "id": "eWGSJWwgRu_w"
      },
      "execution_count": null,
      "outputs": []
    },
    {
      "cell_type": "code",
      "source": [
        "# Dropping location and origin columns\n",
        "df.drop(['origin', 'location'], axis=1, inplace=True)\n",
        "\n",
        "# final resulting DataFrame\n",
        "df.head()"
      ],
      "metadata": {
        "colab": {
          "base_uri": "https://localhost:8080/",
          "height": 345
        },
        "id": "qYQDV_NcR29A",
        "outputId": "ab2a009e-ae2e-4ce7-d7c2-b975481982aa"
      },
      "execution_count": null,
      "outputs": [
        {
          "output_type": "execute_result",
          "data": {
            "text/plain": [
              "   id          name status species type  gender  \\\n",
              "0   1  Rick Sanchez  Alive   Human         Male   \n",
              "1   2   Morty Smith  Alive   Human         Male   \n",
              "2   3  Summer Smith  Alive   Human       Female   \n",
              "3   4    Beth Smith  Alive   Human       Female   \n",
              "4   5   Jerry Smith  Alive   Human         Male   \n",
              "\n",
              "                                               image  \\\n",
              "0  https://therickandmortyapi.vercel.app/api/char...   \n",
              "1  https://therickandmortyapi.vercel.app/api/char...   \n",
              "2  https://therickandmortyapi.vercel.app/api/char...   \n",
              "3  https://therickandmortyapi.vercel.app/api/char...   \n",
              "4  https://therickandmortyapi.vercel.app/api/char...   \n",
              "\n",
              "                                             episode  \\\n",
              "0  [https://therickandmortyapi.vercel.app/api/epi...   \n",
              "1  [https://therickandmortyapi.vercel.app/api/epi...   \n",
              "2  [https://therickandmortyapi.vercel.app/api/epi...   \n",
              "3  [https://therickandmortyapi.vercel.app/api/epi...   \n",
              "4  [https://therickandmortyapi.vercel.app/api/epi...   \n",
              "\n",
              "                                                 url  \\\n",
              "0  https://therickandmortyapi.vercel.app/api/char...   \n",
              "1  https://therickandmortyapi.vercel.app/api/char...   \n",
              "2  https://therickandmortyapi.vercel.app/api/char...   \n",
              "3  https://therickandmortyapi.vercel.app/api/char...   \n",
              "4  https://therickandmortyapi.vercel.app/api/char...   \n",
              "\n",
              "                    created                    origin_name  \\\n",
              "0  2017-11-04T13:48:46.250Z                  Earth (C-137)   \n",
              "1  2017-11-04T13:50:21.651Z                        unknown   \n",
              "2  2017-11-04T14:09:56.428Z  Earth (Replacement Dimension)   \n",
              "3  2017-11-04T14:22:43.665Z  Earth (Replacement Dimension)   \n",
              "4  2017-11-04T14:26:56.301Z  Earth (Replacement Dimension)   \n",
              "\n",
              "                   location_name  \n",
              "0               Citadel of Ricks  \n",
              "1               Citadel of Ricks  \n",
              "2  Earth (Replacement Dimension)  \n",
              "3  Earth (Replacement Dimension)  \n",
              "4  Earth (Replacement Dimension)  "
            ],
            "text/html": [
              "\n",
              "  <div id=\"df-5aee661f-e1d6-4a7f-a4c4-448317a03b57\" class=\"colab-df-container\">\n",
              "    <div>\n",
              "<style scoped>\n",
              "    .dataframe tbody tr th:only-of-type {\n",
              "        vertical-align: middle;\n",
              "    }\n",
              "\n",
              "    .dataframe tbody tr th {\n",
              "        vertical-align: top;\n",
              "    }\n",
              "\n",
              "    .dataframe thead th {\n",
              "        text-align: right;\n",
              "    }\n",
              "</style>\n",
              "<table border=\"1\" class=\"dataframe\">\n",
              "  <thead>\n",
              "    <tr style=\"text-align: right;\">\n",
              "      <th></th>\n",
              "      <th>id</th>\n",
              "      <th>name</th>\n",
              "      <th>status</th>\n",
              "      <th>species</th>\n",
              "      <th>type</th>\n",
              "      <th>gender</th>\n",
              "      <th>image</th>\n",
              "      <th>episode</th>\n",
              "      <th>url</th>\n",
              "      <th>created</th>\n",
              "      <th>origin_name</th>\n",
              "      <th>location_name</th>\n",
              "    </tr>\n",
              "  </thead>\n",
              "  <tbody>\n",
              "    <tr>\n",
              "      <th>0</th>\n",
              "      <td>1</td>\n",
              "      <td>Rick Sanchez</td>\n",
              "      <td>Alive</td>\n",
              "      <td>Human</td>\n",
              "      <td></td>\n",
              "      <td>Male</td>\n",
              "      <td>https://therickandmortyapi.vercel.app/api/char...</td>\n",
              "      <td>[https://therickandmortyapi.vercel.app/api/epi...</td>\n",
              "      <td>https://therickandmortyapi.vercel.app/api/char...</td>\n",
              "      <td>2017-11-04T13:48:46.250Z</td>\n",
              "      <td>Earth (C-137)</td>\n",
              "      <td>Citadel of Ricks</td>\n",
              "    </tr>\n",
              "    <tr>\n",
              "      <th>1</th>\n",
              "      <td>2</td>\n",
              "      <td>Morty Smith</td>\n",
              "      <td>Alive</td>\n",
              "      <td>Human</td>\n",
              "      <td></td>\n",
              "      <td>Male</td>\n",
              "      <td>https://therickandmortyapi.vercel.app/api/char...</td>\n",
              "      <td>[https://therickandmortyapi.vercel.app/api/epi...</td>\n",
              "      <td>https://therickandmortyapi.vercel.app/api/char...</td>\n",
              "      <td>2017-11-04T13:50:21.651Z</td>\n",
              "      <td>unknown</td>\n",
              "      <td>Citadel of Ricks</td>\n",
              "    </tr>\n",
              "    <tr>\n",
              "      <th>2</th>\n",
              "      <td>3</td>\n",
              "      <td>Summer Smith</td>\n",
              "      <td>Alive</td>\n",
              "      <td>Human</td>\n",
              "      <td></td>\n",
              "      <td>Female</td>\n",
              "      <td>https://therickandmortyapi.vercel.app/api/char...</td>\n",
              "      <td>[https://therickandmortyapi.vercel.app/api/epi...</td>\n",
              "      <td>https://therickandmortyapi.vercel.app/api/char...</td>\n",
              "      <td>2017-11-04T14:09:56.428Z</td>\n",
              "      <td>Earth (Replacement Dimension)</td>\n",
              "      <td>Earth (Replacement Dimension)</td>\n",
              "    </tr>\n",
              "    <tr>\n",
              "      <th>3</th>\n",
              "      <td>4</td>\n",
              "      <td>Beth Smith</td>\n",
              "      <td>Alive</td>\n",
              "      <td>Human</td>\n",
              "      <td></td>\n",
              "      <td>Female</td>\n",
              "      <td>https://therickandmortyapi.vercel.app/api/char...</td>\n",
              "      <td>[https://therickandmortyapi.vercel.app/api/epi...</td>\n",
              "      <td>https://therickandmortyapi.vercel.app/api/char...</td>\n",
              "      <td>2017-11-04T14:22:43.665Z</td>\n",
              "      <td>Earth (Replacement Dimension)</td>\n",
              "      <td>Earth (Replacement Dimension)</td>\n",
              "    </tr>\n",
              "    <tr>\n",
              "      <th>4</th>\n",
              "      <td>5</td>\n",
              "      <td>Jerry Smith</td>\n",
              "      <td>Alive</td>\n",
              "      <td>Human</td>\n",
              "      <td></td>\n",
              "      <td>Male</td>\n",
              "      <td>https://therickandmortyapi.vercel.app/api/char...</td>\n",
              "      <td>[https://therickandmortyapi.vercel.app/api/epi...</td>\n",
              "      <td>https://therickandmortyapi.vercel.app/api/char...</td>\n",
              "      <td>2017-11-04T14:26:56.301Z</td>\n",
              "      <td>Earth (Replacement Dimension)</td>\n",
              "      <td>Earth (Replacement Dimension)</td>\n",
              "    </tr>\n",
              "  </tbody>\n",
              "</table>\n",
              "</div>\n",
              "    <div class=\"colab-df-buttons\">\n",
              "\n",
              "  <div class=\"colab-df-container\">\n",
              "    <button class=\"colab-df-convert\" onclick=\"convertToInteractive('df-5aee661f-e1d6-4a7f-a4c4-448317a03b57')\"\n",
              "            title=\"Convert this dataframe to an interactive table.\"\n",
              "            style=\"display:none;\">\n",
              "\n",
              "  <svg xmlns=\"http://www.w3.org/2000/svg\" height=\"24px\" viewBox=\"0 -960 960 960\">\n",
              "    <path d=\"M120-120v-720h720v720H120Zm60-500h600v-160H180v160Zm220 220h160v-160H400v160Zm0 220h160v-160H400v160ZM180-400h160v-160H180v160Zm440 0h160v-160H620v160ZM180-180h160v-160H180v160Zm440 0h160v-160H620v160Z\"/>\n",
              "  </svg>\n",
              "    </button>\n",
              "\n",
              "  <style>\n",
              "    .colab-df-container {\n",
              "      display:flex;\n",
              "      gap: 12px;\n",
              "    }\n",
              "\n",
              "    .colab-df-convert {\n",
              "      background-color: #E8F0FE;\n",
              "      border: none;\n",
              "      border-radius: 50%;\n",
              "      cursor: pointer;\n",
              "      display: none;\n",
              "      fill: #1967D2;\n",
              "      height: 32px;\n",
              "      padding: 0 0 0 0;\n",
              "      width: 32px;\n",
              "    }\n",
              "\n",
              "    .colab-df-convert:hover {\n",
              "      background-color: #E2EBFA;\n",
              "      box-shadow: 0px 1px 2px rgba(60, 64, 67, 0.3), 0px 1px 3px 1px rgba(60, 64, 67, 0.15);\n",
              "      fill: #174EA6;\n",
              "    }\n",
              "\n",
              "    .colab-df-buttons div {\n",
              "      margin-bottom: 4px;\n",
              "    }\n",
              "\n",
              "    [theme=dark] .colab-df-convert {\n",
              "      background-color: #3B4455;\n",
              "      fill: #D2E3FC;\n",
              "    }\n",
              "\n",
              "    [theme=dark] .colab-df-convert:hover {\n",
              "      background-color: #434B5C;\n",
              "      box-shadow: 0px 1px 3px 1px rgba(0, 0, 0, 0.15);\n",
              "      filter: drop-shadow(0px 1px 2px rgba(0, 0, 0, 0.3));\n",
              "      fill: #FFFFFF;\n",
              "    }\n",
              "  </style>\n",
              "\n",
              "    <script>\n",
              "      const buttonEl =\n",
              "        document.querySelector('#df-5aee661f-e1d6-4a7f-a4c4-448317a03b57 button.colab-df-convert');\n",
              "      buttonEl.style.display =\n",
              "        google.colab.kernel.accessAllowed ? 'block' : 'none';\n",
              "\n",
              "      async function convertToInteractive(key) {\n",
              "        const element = document.querySelector('#df-5aee661f-e1d6-4a7f-a4c4-448317a03b57');\n",
              "        const dataTable =\n",
              "          await google.colab.kernel.invokeFunction('convertToInteractive',\n",
              "                                                    [key], {});\n",
              "        if (!dataTable) return;\n",
              "\n",
              "        const docLinkHtml = 'Like what you see? Visit the ' +\n",
              "          '<a target=\"_blank\" href=https://colab.research.google.com/notebooks/data_table.ipynb>data table notebook</a>'\n",
              "          + ' to learn more about interactive tables.';\n",
              "        element.innerHTML = '';\n",
              "        dataTable['output_type'] = 'display_data';\n",
              "        await google.colab.output.renderOutput(dataTable, element);\n",
              "        const docLink = document.createElement('div');\n",
              "        docLink.innerHTML = docLinkHtml;\n",
              "        element.appendChild(docLink);\n",
              "      }\n",
              "    </script>\n",
              "  </div>\n",
              "\n",
              "\n",
              "<div id=\"df-c4b2da14-5630-4fe5-94c6-f9156a485299\">\n",
              "  <button class=\"colab-df-quickchart\" onclick=\"quickchart('df-c4b2da14-5630-4fe5-94c6-f9156a485299')\"\n",
              "            title=\"Suggest charts\"\n",
              "            style=\"display:none;\">\n",
              "\n",
              "<svg xmlns=\"http://www.w3.org/2000/svg\" height=\"24px\"viewBox=\"0 0 24 24\"\n",
              "     width=\"24px\">\n",
              "    <g>\n",
              "        <path d=\"M19 3H5c-1.1 0-2 .9-2 2v14c0 1.1.9 2 2 2h14c1.1 0 2-.9 2-2V5c0-1.1-.9-2-2-2zM9 17H7v-7h2v7zm4 0h-2V7h2v10zm4 0h-2v-4h2v4z\"/>\n",
              "    </g>\n",
              "</svg>\n",
              "  </button>\n",
              "\n",
              "<style>\n",
              "  .colab-df-quickchart {\n",
              "      --bg-color: #E8F0FE;\n",
              "      --fill-color: #1967D2;\n",
              "      --hover-bg-color: #E2EBFA;\n",
              "      --hover-fill-color: #174EA6;\n",
              "      --disabled-fill-color: #AAA;\n",
              "      --disabled-bg-color: #DDD;\n",
              "  }\n",
              "\n",
              "  [theme=dark] .colab-df-quickchart {\n",
              "      --bg-color: #3B4455;\n",
              "      --fill-color: #D2E3FC;\n",
              "      --hover-bg-color: #434B5C;\n",
              "      --hover-fill-color: #FFFFFF;\n",
              "      --disabled-bg-color: #3B4455;\n",
              "      --disabled-fill-color: #666;\n",
              "  }\n",
              "\n",
              "  .colab-df-quickchart {\n",
              "    background-color: var(--bg-color);\n",
              "    border: none;\n",
              "    border-radius: 50%;\n",
              "    cursor: pointer;\n",
              "    display: none;\n",
              "    fill: var(--fill-color);\n",
              "    height: 32px;\n",
              "    padding: 0;\n",
              "    width: 32px;\n",
              "  }\n",
              "\n",
              "  .colab-df-quickchart:hover {\n",
              "    background-color: var(--hover-bg-color);\n",
              "    box-shadow: 0 1px 2px rgba(60, 64, 67, 0.3), 0 1px 3px 1px rgba(60, 64, 67, 0.15);\n",
              "    fill: var(--button-hover-fill-color);\n",
              "  }\n",
              "\n",
              "  .colab-df-quickchart-complete:disabled,\n",
              "  .colab-df-quickchart-complete:disabled:hover {\n",
              "    background-color: var(--disabled-bg-color);\n",
              "    fill: var(--disabled-fill-color);\n",
              "    box-shadow: none;\n",
              "  }\n",
              "\n",
              "  .colab-df-spinner {\n",
              "    border: 2px solid var(--fill-color);\n",
              "    border-color: transparent;\n",
              "    border-bottom-color: var(--fill-color);\n",
              "    animation:\n",
              "      spin 1s steps(1) infinite;\n",
              "  }\n",
              "\n",
              "  @keyframes spin {\n",
              "    0% {\n",
              "      border-color: transparent;\n",
              "      border-bottom-color: var(--fill-color);\n",
              "      border-left-color: var(--fill-color);\n",
              "    }\n",
              "    20% {\n",
              "      border-color: transparent;\n",
              "      border-left-color: var(--fill-color);\n",
              "      border-top-color: var(--fill-color);\n",
              "    }\n",
              "    30% {\n",
              "      border-color: transparent;\n",
              "      border-left-color: var(--fill-color);\n",
              "      border-top-color: var(--fill-color);\n",
              "      border-right-color: var(--fill-color);\n",
              "    }\n",
              "    40% {\n",
              "      border-color: transparent;\n",
              "      border-right-color: var(--fill-color);\n",
              "      border-top-color: var(--fill-color);\n",
              "    }\n",
              "    60% {\n",
              "      border-color: transparent;\n",
              "      border-right-color: var(--fill-color);\n",
              "    }\n",
              "    80% {\n",
              "      border-color: transparent;\n",
              "      border-right-color: var(--fill-color);\n",
              "      border-bottom-color: var(--fill-color);\n",
              "    }\n",
              "    90% {\n",
              "      border-color: transparent;\n",
              "      border-bottom-color: var(--fill-color);\n",
              "    }\n",
              "  }\n",
              "</style>\n",
              "\n",
              "  <script>\n",
              "    async function quickchart(key) {\n",
              "      const quickchartButtonEl =\n",
              "        document.querySelector('#' + key + ' button');\n",
              "      quickchartButtonEl.disabled = true;  // To prevent multiple clicks.\n",
              "      quickchartButtonEl.classList.add('colab-df-spinner');\n",
              "      try {\n",
              "        const charts = await google.colab.kernel.invokeFunction(\n",
              "            'suggestCharts', [key], {});\n",
              "      } catch (error) {\n",
              "        console.error('Error during call to suggestCharts:', error);\n",
              "      }\n",
              "      quickchartButtonEl.classList.remove('colab-df-spinner');\n",
              "      quickchartButtonEl.classList.add('colab-df-quickchart-complete');\n",
              "    }\n",
              "    (() => {\n",
              "      let quickchartButtonEl =\n",
              "        document.querySelector('#df-c4b2da14-5630-4fe5-94c6-f9156a485299 button');\n",
              "      quickchartButtonEl.style.display =\n",
              "        google.colab.kernel.accessAllowed ? 'block' : 'none';\n",
              "    })();\n",
              "  </script>\n",
              "</div>\n",
              "\n",
              "    </div>\n",
              "  </div>\n"
            ],
            "application/vnd.google.colaboratory.intrinsic+json": {
              "type": "dataframe",
              "variable_name": "df",
              "summary": "{\n  \"name\": \"df\",\n  \"rows\": 826,\n  \"fields\": [\n    {\n      \"column\": \"id\",\n      \"properties\": {\n        \"dtype\": \"number\",\n        \"std\": 238,\n        \"min\": 1,\n        \"max\": 826,\n        \"num_unique_values\": 826,\n        \"samples\": [\n          649,\n          175,\n          68\n        ],\n        \"semantic_type\": \"\",\n        \"description\": \"\"\n      }\n    },\n    {\n      \"column\": \"name\",\n      \"properties\": {\n        \"dtype\": \"string\",\n        \"num_unique_values\": 757,\n        \"samples\": [\n          \"Super Weird Rick\",\n          \"Doofus Rick\",\n          \"Robot Morty\"\n        ],\n        \"semantic_type\": \"\",\n        \"description\": \"\"\n      }\n    },\n    {\n      \"column\": \"status\",\n      \"properties\": {\n        \"dtype\": \"category\",\n        \"num_unique_values\": 3,\n        \"samples\": [\n          \"Alive\",\n          \"unknown\",\n          \"Dead\"\n        ],\n        \"semantic_type\": \"\",\n        \"description\": \"\"\n      }\n    },\n    {\n      \"column\": \"species\",\n      \"properties\": {\n        \"dtype\": \"category\",\n        \"num_unique_values\": 10,\n        \"samples\": [\n          \"Cronenberg\",\n          \"Alien\",\n          \"Mythological Creature\"\n        ],\n        \"semantic_type\": \"\",\n        \"description\": \"\"\n      }\n    },\n    {\n      \"column\": \"type\",\n      \"properties\": {\n        \"dtype\": \"category\",\n        \"num_unique_values\": 170,\n        \"samples\": [\n          \"Narnian\",\n          \"Giant\",\n          \"Caterpillar\"\n        ],\n        \"semantic_type\": \"\",\n        \"description\": \"\"\n      }\n    },\n    {\n      \"column\": \"gender\",\n      \"properties\": {\n        \"dtype\": \"category\",\n        \"num_unique_values\": 4,\n        \"samples\": [\n          \"Female\",\n          \"Genderless\",\n          \"Male\"\n        ],\n        \"semantic_type\": \"\",\n        \"description\": \"\"\n      }\n    },\n    {\n      \"column\": \"image\",\n      \"properties\": {\n        \"dtype\": \"string\",\n        \"num_unique_values\": 826,\n        \"samples\": [\n          \"https://therickandmortyapi.vercel.app/api/character/avatar/649.jpeg\",\n          \"https://therickandmortyapi.vercel.app/api/character/avatar/175.jpeg\",\n          \"https://therickandmortyapi.vercel.app/api/character/avatar/68.jpeg\"\n        ],\n        \"semantic_type\": \"\",\n        \"description\": \"\"\n      }\n    },\n    {\n      \"column\": \"episode\",\n      \"properties\": {\n        \"dtype\": \"object\",\n        \"semantic_type\": \"\",\n        \"description\": \"\"\n      }\n    },\n    {\n      \"column\": \"url\",\n      \"properties\": {\n        \"dtype\": \"string\",\n        \"num_unique_values\": 826,\n        \"samples\": [\n          \"https://therickandmortyapi.vercel.app/api/character/649\",\n          \"https://therickandmortyapi.vercel.app/api/character/175\",\n          \"https://therickandmortyapi.vercel.app/api/character/68\"\n        ],\n        \"semantic_type\": \"\",\n        \"description\": \"\"\n      }\n    },\n    {\n      \"column\": \"created\",\n      \"properties\": {\n        \"dtype\": \"object\",\n        \"num_unique_values\": 826,\n        \"samples\": [\n          \"2020-08-13T05:10:01.602Z\",\n          \"2017-12-29T13:07:17.610Z\",\n          \"2017-11-30T06:17:32.733Z\"\n        ],\n        \"semantic_type\": \"\",\n        \"description\": \"\"\n      }\n    },\n    {\n      \"column\": \"origin_name\",\n      \"properties\": {\n        \"dtype\": \"category\",\n        \"num_unique_values\": 97,\n        \"samples\": [\n          \"Earth (Fascist Dimension)\",\n          \"Mega Gargantuan Kingdom\",\n          \"Slartivart\"\n        ],\n        \"semantic_type\": \"\",\n        \"description\": \"\"\n      }\n    },\n    {\n      \"column\": \"location_name\",\n      \"properties\": {\n        \"dtype\": \"category\",\n        \"num_unique_values\": 95,\n        \"samples\": [\n          \"Gramuflack\",\n          \"The Menagerie\",\n          \"Story Train\"\n        ],\n        \"semantic_type\": \"\",\n        \"description\": \"\"\n      }\n    }\n  ]\n}"
            }
          },
          "metadata": {},
          "execution_count": 35
        }
      ]
    },
    {
      "cell_type": "code",
      "source": [
        "# dataframe info\n",
        "\n",
        "df.info()"
      ],
      "metadata": {
        "colab": {
          "base_uri": "https://localhost:8080/"
        },
        "id": "m0SlxGttH8s-",
        "outputId": "f1945a42-2d3b-4471-9b6f-5ddcdc823cc5"
      },
      "execution_count": null,
      "outputs": [
        {
          "output_type": "stream",
          "name": "stdout",
          "text": [
            "<class 'pandas.core.frame.DataFrame'>\n",
            "RangeIndex: 826 entries, 0 to 825\n",
            "Data columns (total 12 columns):\n",
            " #   Column         Non-Null Count  Dtype \n",
            "---  ------         --------------  ----- \n",
            " 0   id             826 non-null    int64 \n",
            " 1   name           826 non-null    object\n",
            " 2   status         826 non-null    object\n",
            " 3   species        826 non-null    object\n",
            " 4   type           826 non-null    object\n",
            " 5   gender         826 non-null    object\n",
            " 6   image          826 non-null    object\n",
            " 7   episode        826 non-null    object\n",
            " 8   url            826 non-null    object\n",
            " 9   created        826 non-null    object\n",
            " 10  origin_name    826 non-null    object\n",
            " 11  location_name  826 non-null    object\n",
            "dtypes: int64(1), object(11)\n",
            "memory usage: 77.6+ KB\n"
          ]
        }
      ]
    },
    {
      "cell_type": "code",
      "source": [
        "# dataframe shape (rows x columns)\n",
        "\n",
        "df.shape\n"
      ],
      "metadata": {
        "colab": {
          "base_uri": "https://localhost:8080/"
        },
        "id": "ZZCFysQ9H4VW",
        "outputId": "e23138ee-2b74-4776-af2b-1d20b4eeaa7c"
      },
      "execution_count": null,
      "outputs": [
        {
          "output_type": "execute_result",
          "data": {
            "text/plain": [
              "(20, 12)"
            ]
          },
          "metadata": {},
          "execution_count": 17
        }
      ]
    },
    {
      "cell_type": "code",
      "source": [
        "#list of columns present in the dataframe\n",
        "df.columns"
      ],
      "metadata": {
        "colab": {
          "base_uri": "https://localhost:8080/"
        },
        "id": "j3DYPRdDER_1",
        "outputId": "ba9d3bf2-eeb0-4155-8ec5-bf1636a508ad"
      },
      "execution_count": null,
      "outputs": [
        {
          "output_type": "execute_result",
          "data": {
            "text/plain": [
              "Index(['id', 'name', 'status', 'species', 'type', 'gender', 'origin',\n",
              "       'location', 'image', 'episode', 'url', 'created'],\n",
              "      dtype='object')"
            ]
          },
          "metadata": {},
          "execution_count": 9
        }
      ]
    },
    {
      "cell_type": "code",
      "source": [
        "df['name'].nunique()"
      ],
      "metadata": {
        "colab": {
          "base_uri": "https://localhost:8080/"
        },
        "id": "FNHUd9BVcBry",
        "outputId": "c3207445-407b-4342-f86c-cdb017f84ad3"
      },
      "execution_count": null,
      "outputs": [
        {
          "output_type": "execute_result",
          "data": {
            "text/plain": [
              "757"
            ]
          },
          "metadata": {},
          "execution_count": 47
        }
      ]
    },
    {
      "cell_type": "code",
      "source": [
        "#@title Plot of top 10 types of characters\n",
        "top_10_types = df['type'].value_counts().head(10)\n",
        "\n",
        "# Plotting\n",
        "plt.figure(figsize=(10, 6))\n",
        "top_10_types.plot(kind='bar', color='skyblue')\n",
        "plt.title('Top 10 Types')\n",
        "plt.xlabel('Type')\n",
        "plt.ylabel('Count')\n",
        "plt.xticks(rotation=45)\n",
        "plt.tight_layout()\n",
        "plt.show()"
      ],
      "metadata": {
        "colab": {
          "base_uri": "https://localhost:8080/",
          "height": 607
        },
        "id": "wXnRvlaME0qs",
        "outputId": "b185d762-4f51-48f0-e843-110b18b3e4ca"
      },
      "execution_count": null,
      "outputs": [
        {
          "output_type": "display_data",
          "data": {
            "text/plain": [
              "<Figure size 1000x600 with 1 Axes>"
            ],
            "image/png": "[encoded data removed]"
          },
          "metadata": {}
        }
      ]
    },
    {
      "cell_type": "code",
      "source": [
        "#@ title Plot of Characters by Species\n",
        "\n",
        "sns.set(style=\"whitegrid\")\n",
        "plt.figure(figsize=(10, 6))\n",
        "sns.countplot(data=df, x='species', palette='Set2', order=df['species'].value_counts().index[:10])\n",
        "plt.title('Number of Characters per Species')\n",
        "plt.xlabel('Species')\n",
        "plt.ylabel('Count')\n",
        "plt.xticks(rotation=45)\n",
        "plt.tight_layout()\n",
        "plt.show()"
      ],
      "metadata": {
        "colab": {
          "base_uri": "https://localhost:8080/",
          "height": 688
        },
        "id": "r6RLB1XhWn6Z",
        "outputId": "9fdfcf0b-2057-4762-e65b-976589bd6422"
      },
      "execution_count": null,
      "outputs": [
        {
          "output_type": "stream",
          "name": "stderr",
          "text": [
            "<ipython-input-42-81a2b9b5a251>:5: FutureWarning: \n",
            "\n",
            "Passing `palette` without assigning `hue` is deprecated and will be removed in v0.14.0. Assign the `x` variable to `hue` and set `legend=False` for the same effect.\n",
            "\n",
            "  sns.countplot(data=df, x='species', palette='Set2', order=df['species'].value_counts().index[:10])\n"
          ]
        },
        {
          "output_type": "display_data",
          "data": {
            "text/plain": [
              "<Figure size 1000x600 with 1 Axes>"
            ],
            "image/png": "[encoded data removed]"
          },
          "metadata": {}
        }
      ]
    },
    {
      "cell_type": "code",
      "source": [
        "# @title Plot of Characters by Gender\n",
        "\n",
        "sns.set(style=\"whitegrid\")\n",
        "plt.figure(figsize=(10, 6))\n",
        "sns.countplot(data=df, x='gender', palette='Set1', order=df['gender'].value_counts().index)\n",
        "plt.title('Number of Characters by Gender')\n",
        "plt.xlabel('Gender')\n",
        "plt.ylabel('Count')\n",
        "plt.tight_layout()\n",
        "plt.show()"
      ],
      "metadata": {
        "colab": {
          "base_uri": "https://localhost:8080/",
          "height": 688
        },
        "id": "5Z2LZe54XMm4",
        "outputId": "7abeb9e6-42e7-4157-9c78-eb41c2aaed5f"
      },
      "execution_count": null,
      "outputs": [
        {
          "output_type": "stream",
          "name": "stderr",
          "text": [
            "<ipython-input-43-ea293fca803f>:5: FutureWarning: \n",
            "\n",
            "Passing `palette` without assigning `hue` is deprecated and will be removed in v0.14.0. Assign the `x` variable to `hue` and set `legend=False` for the same effect.\n",
            "\n",
            "  sns.countplot(data=df, x='gender', palette='Set1', order=df['gender'].value_counts().index)\n"
          ]
        },
        {
          "output_type": "display_data",
          "data": {
            "text/plain": [
              "<Figure size 1000x600 with 1 Axes>"
            ],
            "image/png": "[encoded data removed]"
          },
          "metadata": {}
        }
      ]
    },
    {
      "cell_type": "code",
      "source": [
        "# Value counts for the 'status' column\n",
        "status_counts = df['status'].value_counts()\n",
        "\n",
        "# Total number of characters\n",
        "total_characters = len(df)\n",
        "\n",
        "# Calculating percentage of occurence\n",
        "status_percentages = (status_counts / total_characters) * 100\n",
        "\n",
        "print(status_percentages)\n"
      ],
      "metadata": {
        "colab": {
          "base_uri": "https://localhost:8080/"
        },
        "id": "tnJ28l4AeEUy",
        "outputId": "296b2bda-b478-4dd8-a8a3-3410bee92d4a"
      },
      "execution_count": null,
      "outputs": [
        {
          "output_type": "stream",
          "name": "stdout",
          "text": [
            "Alive      53.147700\n",
            "Dead       34.745763\n",
            "unknown    12.106538\n",
            "Name: status, dtype: float64\n"
          ]
        }
      ]
    },
    {
      "cell_type": "code",
      "source": [
        "# @title status of characters\n",
        "\n",
        "from matplotlib import pyplot as plt\n",
        "import seaborn as sns\n",
        "df.groupby('status').size().plot(kind='barh', color=sns.palettes.mpl_palette('Dark2'))\n",
        "plt.gca().spines[['top', 'right',]].set_visible(False)"
      ],
      "metadata": {
        "colab": {
          "base_uri": "https://localhost:8080/",
          "height": 430
        },
        "id": "BXwLsFXmEfoe",
        "outputId": "e9dcc3e3-8716-462a-f242-792078de6563"
      },
      "execution_count": null,
      "outputs": [
        {
          "output_type": "display_data",
          "data": {
            "text/plain": [
              "<Figure size 640x480 with 1 Axes>"
            ],
            "image/png": "[encoded data removed]"
          },
          "metadata": {}
        }
      ]
    },
    {
      "cell_type": "code",
      "source": [
        "# Most frequently occurring location\n",
        "most_common_location = df['location_name'].value_counts().idxmax()\n",
        "\n",
        "print(\"The most frequently occurring location is:\", most_common_location)\n",
        "\n"
      ],
      "metadata": {
        "colab": {
          "base_uri": "https://localhost:8080/"
        },
        "id": "EzJnjqmldFfB",
        "outputId": "b939c0e5-2953-4a67-89aa-5277617cad33"
      },
      "execution_count": null,
      "outputs": [
        {
          "output_type": "stream",
          "name": "stdout",
          "text": [
            "The most frequently occurring location is: Earth (Replacement Dimension)\n"
          ]
        }
      ]
    },
    {
      "cell_type": "code",
      "source": [
        "# Most frequently occurring origin\n",
        "most_common_origin = df['origin_name'].value_counts().idxmax()\n",
        "\n",
        "print(\"The most frequently occurring origin is:\", most_common_origin)"
      ],
      "metadata": {
        "colab": {
          "base_uri": "https://localhost:8080/"
        },
        "id": "yg8ZWnN0dktJ",
        "outputId": "590a314d-a245-45fe-c6b7-2528dbf167b3"
      },
      "execution_count": null,
      "outputs": [
        {
          "output_type": "stream",
          "name": "stdout",
          "text": [
            "The most frequently occurring origin is: unknown\n"
          ]
        }
      ]
    },
    {
      "cell_type": "markdown",
      "source": [
        "# **INSIGHTS**\n",
        "\n",
        "The following insights can be gathered from the analysis:\n",
        "\n",
        "1.   There are 757 unique character entries in the dataset\n",
        "2.   A large percentage of the characters (48%) are not characterised by a type. After this, the largest percentage of characters by type is 'Souless Puppet'.\n",
        "3. The origin of most characters is unknown\n",
        "4. Most characters are from Earth (Replacement Dimension)\n",
        "5. 53% of the characters have their status as Alive\n",
        "6. There are more male characters than any other gender in the Rick & Morty Universe\n",
        "\n"
      ],
      "metadata": {
        "id": "zLQM59fXbMXZ"
      }
    },
    {
      "cell_type": "code",
      "source": [],
      "metadata": {
        "id": "GaotMfFCb7ZZ"
      },
      "execution_count": null,
      "outputs": []
    }
  ]
}